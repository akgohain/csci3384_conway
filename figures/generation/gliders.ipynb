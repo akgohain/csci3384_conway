{
 "cells": [
  {
   "cell_type": "markdown",
   "id": "650b515c",
   "metadata": {},
   "source": [
    "# Imports"
   ]
  },
  {
   "cell_type": "code",
   "execution_count": 2,
   "id": "c446f36e",
   "metadata": {
    "vscode": {
     "languageId": "shellscript"
    }
   },
   "outputs": [
    {
     "name": "stdout",
     "output_type": "stream",
     "text": [
      "Requirement already satisfied: pyseagull in /Library/Frameworks/Python.framework/Versions/3.10/lib/python3.10/site-packages (1.0.0b4)\n",
      "Requirement already satisfied: numpy in /Library/Frameworks/Python.framework/Versions/3.10/lib/python3.10/site-packages (from pyseagull) (1.24.3)\n",
      "Requirement already satisfied: scipy in /Library/Frameworks/Python.framework/Versions/3.10/lib/python3.10/site-packages (from pyseagull) (1.15.1)\n",
      "Requirement already satisfied: loguru in /Library/Frameworks/Python.framework/Versions/3.10/lib/python3.10/site-packages (from pyseagull) (0.7.3)\n",
      "Requirement already satisfied: matplotlib in /Library/Frameworks/Python.framework/Versions/3.10/lib/python3.10/site-packages (from pyseagull) (3.10.0)\n",
      "Requirement already satisfied: pyparsing>=2.3.1 in /Library/Frameworks/Python.framework/Versions/3.10/lib/python3.10/site-packages (from matplotlib->pyseagull) (3.0.9)\n",
      "Requirement already satisfied: pillow>=8 in /Library/Frameworks/Python.framework/Versions/3.10/lib/python3.10/site-packages (from matplotlib->pyseagull) (10.4.0)\n",
      "Requirement already satisfied: python-dateutil>=2.7 in /Library/Frameworks/Python.framework/Versions/3.10/lib/python3.10/site-packages (from matplotlib->pyseagull) (2.8.2)\n",
      "Requirement already satisfied: packaging>=20.0 in /Library/Frameworks/Python.framework/Versions/3.10/lib/python3.10/site-packages (from matplotlib->pyseagull) (21.3)\n",
      "Requirement already satisfied: cycler>=0.10 in /Library/Frameworks/Python.framework/Versions/3.10/lib/python3.10/site-packages (from matplotlib->pyseagull) (0.12.1)\n",
      "Requirement already satisfied: kiwisolver>=1.3.1 in /Library/Frameworks/Python.framework/Versions/3.10/lib/python3.10/site-packages (from matplotlib->pyseagull) (1.4.8)\n",
      "Requirement already satisfied: contourpy>=1.0.1 in /Library/Frameworks/Python.framework/Versions/3.10/lib/python3.10/site-packages (from matplotlib->pyseagull) (1.3.1)\n",
      "Requirement already satisfied: fonttools>=4.22.0 in /Library/Frameworks/Python.framework/Versions/3.10/lib/python3.10/site-packages (from matplotlib->pyseagull) (4.56.0)\n",
      "Requirement already satisfied: six>=1.5 in /Library/Frameworks/Python.framework/Versions/3.10/lib/python3.10/site-packages (from python-dateutil>=2.7->matplotlib->pyseagull) (1.16.0)\n",
      "\u001b[33mWARNING: There was an error checking the latest version of pip.\u001b[0m\u001b[33m\n",
      "\u001b[0mNote: you may need to restart the kernel to use updated packages.\n"
     ]
    }
   ],
   "source": [
    "pip install pyseagull"
   ]
  },
  {
   "cell_type": "code",
   "execution_count": 3,
   "id": "6aec134c",
   "metadata": {},
   "outputs": [],
   "source": [
    "import seagull as sg\n",
    "import seagull.lifeforms as lf\n",
    "import numpy as np"
   ]
  },
  {
   "cell_type": "code",
   "execution_count": 4,
   "id": "30721d4a",
   "metadata": {},
   "outputs": [],
   "source": [
    "# Some settings to show a JS animation\n",
    "import matplotlib.pyplot as plt\n",
    "plt.rcParams[\"animation.html\"] = \"jshtml\""
   ]
  },
  {
   "cell_type": "code",
   "execution_count": 5,
   "id": "772502a7",
   "metadata": {
    "vscode": {
     "languageId": "shellscript"
    }
   },
   "outputs": [
    {
     "name": "stdout",
     "output_type": "stream",
     "text": [
      "\u001b[31mERROR: Invalid requirement: 'numpy=1.24'\n",
      "Hint: = is not a valid operator. Did you mean == ?\u001b[0m\u001b[31m\n",
      "\u001b[0m\u001b[33mWARNING: There was an error checking the latest version of pip.\u001b[0m\u001b[33m\n",
      "\u001b[0mNote: you may need to restart the kernel to use updated packages.\n"
     ]
    }
   ],
   "source": [
    "pip install numpy=1.24"
   ]
  },
  {
   "cell_type": "markdown",
   "id": "7cdf3705",
   "metadata": {},
   "source": [
    "# Glider Gen"
   ]
  },
  {
   "cell_type": "code",
   "execution_count": 14,
   "id": "c4087f34",
   "metadata": {},
   "outputs": [
    {
     "name": "stderr",
     "output_type": "stream",
     "text": [
      "\u001b[32m2025-04-24 14:47:26.691\u001b[0m | \u001b[1mINFO    \u001b[0m | \u001b[36mseagull.simulator\u001b[0m:\u001b[36mcompute_statistics\u001b[0m:\u001b[36m128\u001b[0m - \u001b[1mComputing simulation statistics...\u001b[0m\n"
     ]
    },
    {
     "data": {
      "image/png": "[encoded data removed]",
      "text/plain": [
       "<Figure size 720x576 with 6 Axes>"
      ]
     },
     "metadata": {},
     "output_type": "display_data"
    },
    {
     "name": "stdout",
     "output_type": "stream",
     "text": [
      "Figure saved as: ../glider_generations_0_to_5.png\n"
     ]
    }
   ],
   "source": [
    "# 1. Initialize the board\n",
    "board_size = (7, 7)\n",
    "board = sg.Board(size=board_size)\n",
    "\n",
    "# 2. Add the glider lifeform\n",
    "glider = lf.Glider()\n",
    "board.add(glider, loc=(2, 2)) # Start closer to top-left for better visibility\n",
    "\n",
    "# 3. Create a simulator and run the simulation for 6 generations\n",
    "sim = sg.Simulator(board)\n",
    "generations_to_simulate = 6 # Simulate only 6 generations (0 to 5)\n",
    "sim.run(sg.rules.conway_classic, iters=generations_to_simulate)\n",
    "\n",
    "# 4. Get the history of the simulation (all frames)\n",
    "history = sim.get_history()\n",
    "\n",
    "# 5. Plot the first 6 generations (0 to 5)\n",
    "fig, axes = plt.subplots(2, 3, figsize=(10, 8)) # Increased figsize height slightly for labels\n",
    "axes = axes.flatten() # Flatten the 2D array of axes for easy iteration\n",
    "\n",
    "for i in range(generations_to_simulate):\n",
    "    if i < len(history): # Ensure we don't try to access beyond history length\n",
    "        state = history[i]\n",
    "        ax = axes[i]\n",
    "        ax.imshow(state, cmap='binary')\n",
    "        ax.set_title(f\"Generation {i}\")\n",
    "        # Remove ticks and labels, but keep the frame (spines)\n",
    "        ax.set_xticks([])\n",
    "        ax.set_yticks([])\n",
    "        # Ensure the border (spines) is visible and set its color\n",
    "        for spine in ax.spines.values():\n",
    "            spine.set_visible(True)\n",
    "            spine.set_edgecolor('black') # Or any other color you prefer\n",
    "            # spine.set_linewidth(1) # Optional: adjust line width\n",
    "    else:\n",
    "        # Hide any unused subplots\n",
    "        axes[i].axis('off')\n",
    "\n",
    "plt.tight_layout(pad=1.0) # Adjust layout to prevent titles/labels overlapping\n",
    "\n",
    "# 6. Save the figure\n",
    "output_filename = \"../glider_generations_0_to_5.png\"\n",
    "plt.savefig(output_filename, bbox_inches='tight', dpi=150)\n",
    "\n",
    "# 7. Display the figure in the notebook\n",
    "plt.show()\n",
    "\n",
    "print(f\"Figure saved as: {output_filename}\")"
   ]
  }
 ],
 "metadata": {
  "kernelspec": {
   "display_name": "Python 3",
   "language": "python",
   "name": "python3"
  },
  "language_info": {
   "codemirror_mode": {
    "name": "ipython",
    "version": 3
   },
   "file_extension": ".py",
   "mimetype": "text/x-python",
   "name": "python",
   "nbconvert_exporter": "python",
   "pygments_lexer": "ipython3",
   "version": "3.10.4"
  }
 },
 "nbformat": 4,
 "nbformat_minor": 5
}
